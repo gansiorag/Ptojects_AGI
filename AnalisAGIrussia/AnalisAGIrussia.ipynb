{
 "cells": [
  {
   "cell_type": "markdown",
   "metadata": {},
   "source": [
    "### Analiz conversetions items of https://t.me/agirussia"
   ]
  },
  {
   "cell_type": "code",
   "execution_count": 12,
   "metadata": {},
   "outputs": [
    {
     "name": "stdout",
     "output_type": "stream",
     "text": [
      "4602\n",
      "38654\n",
      "43256\n"
     ]
    }
   ],
   "source": [
    "with open('/media/al/BigData/Projects_My/ETL_sistems/datasets_com/AGI/agirussia_Mes1.txt', 'r') as i_f:\n",
    "    fullTextList1 = i_f.read().split('<============================>')\n",
    "with open('/media/al/BigData/Projects_My/ETL_sistems/datasets_com/AGI/agirussia_Mes.txt', 'r') as i_f:\n",
    "    fullTextList2 = i_f.read().split('<============================>')\n",
    "print(len(fullTextList1))\n",
    "print(len(fullTextList2))\n",
    "fullTextList = []\n",
    "fullTextList.extend(fullTextList1)\n",
    "fullTextList.extend(fullTextList2)\n",
    "print(len(fullTextList))"
   ]
  },
  {
   "cell_type": "code",
   "execution_count": 14,
   "metadata": {},
   "outputs": [
    {
     "name": "stdout",
     "output_type": "stream",
     "text": [
      "[('302910826', 4075), ('97666365', 2855), ('788815096', 2036), ('504937131', 1457), ('138602604', 1422), ('938994515', 1393), ('394199355', 1259), ('320342456', 1152), ('130121130', 1074), ('250377867', 1046), ('1324952415', 1021), ('1640325274', 936), ('930356435', 870), ('1461823688', 728), ('209554265', 673), ('1011670069', 623), ('219824595', 606), ('992851216', 582), ('418198604', 571), ('466200978', 562), ('5154637910', 537), ('201770861', 534), ('614278014', 529), ('112661964', 519), ('1318748043', 505), ('414651841', 474), ('123307867', 462), ('2095800903', 397), ('303967065', 373), ('205012884', 343), ('1266546834', 341), ('160630665', 325), ('155650140', 318), ('444168473', 301), ('1982042', 294), ('426985664', 249), ('150242219', 246), ('1241878060', 229), ('565875641', 229), ('890831642', 228), ('1944108361', 227), ('251818132', 180), ('1247031251', 173), ('2048228671', 168), ('526505148', 168), ('1434030159', 160), ('381648649', 158), ('1898712809', 155), ('292996598', 155), ('449382033', 151)]\n",
      "1179\n"
     ]
    }
   ],
   "source": [
    "from collections import Counter\n",
    "users = Counter()\n",
    "for mm in fullTextList:\n",
    "    if mm.find('user_id')>=0:\n",
    "        userID = mm.split('user_id')[1].split('}')[0].replace(\"': \",'')\n",
    "        #print(userID)\n",
    "        users[userID] +=1\n",
    "print(users.most_common(50))\n",
    "print(len(users))\n",
    "    "
   ]
  },
  {
   "cell_type": "code",
   "execution_count": 38,
   "metadata": {},
   "outputs": [
    {
     "name": "stdout",
     "output_type": "stream",
     "text": [
      "302910826\n",
      "... или дать ответ в текущем конесте или ...\n",
      "\n",
      "Чтобы развеять обстановку - когда я написал на шелле автоматический раздаватель банов по айпишнику для корпоративного облака, в какой-то момент он забанил весь офис и пришлось срочно мчаться домой, заходить удаленно и разблокировать ручками...\n",
      "\n",
      "Ни фига себе, за 20 лет до \"Мир не Земле\" Станислава Лема\n",
      "\n",
      "\"Либо штаны наденьте, либо крестик снимите\". Если ТТ проходится \"имитацией\" а имитиция это \"низачот\", то сам ТТ - тоже \"низачот\" и нечего на него ссылаться.\n",
      "\n",
      "При том что тест Тьюринга формально пройден, причем пройдет на \"движке на правилах\", с качеством выше, чем современные GPT-сетки.\n",
      "\n",
      "\n",
      "\n",
      "Погуглите \"linguistic perplexity\", например: https://www.researchgate.net/publication/351567868_Detecting_Anomalies_in_Sequences_of_Short_Text_Using_Iterative_Language_Models\n",
      "\n",
      "Последний перед каникулами семинар начинается через 50 минут 🤚\n",
      "\n",
      "@Dmitry_Salikhov \"behavior transfer\" is all you need: https://arxiv.org/abs/2102.13515\n",
      "\n",
      "\n",
      "\n",
      "В общем народ уже который год работает в парадигме - по ВСЕМ играм Atari одним движком переиграть кожанных мешков больше, чем предшественники.\n",
      "\n",
      "Never Give Up - strategy: https://arxiv.org/abs/2002.06038\n",
      "We propose a reinforcement learning agent to solve hard exploration games by\n",
      "learning a range of directed exploratory policies. We construct an episodic memorybased intrinsic reward using k-nearest neighbors over the agent’s recent experience\n",
      "to train the directed exploratory policies, thereby encouraging the agent to repeatedly revisit all states in its environment. A self-supervised inverse dynamics model\n",
      "is used to train the embeddings of the nearest neighbour lookup, biasing the novelty\n",
      "signal towards what the agent can control. We employ the framework of Universal\n",
      "Value Function Approximators (UVFA) to simultaneously learn many directed\n",
      "exploration policies with the same neural network, with different trade-offs between exploration and exploitation. By using the same neural network for different\n",
      "degrees of exploration/exploitation, transfer is demonstrated from predominantly\n",
      "exploratory policies yielding effective exploitative policies. The proposed method\n",
      "can be incorporated to run with modern distributed RL agents that collect large\n",
      "amounts of experience from many actors running in parallel on separate environment instances. Our method doubles the performance of the base agent in all\n",
      "hard exploration in the Atari-57 suite while maintaining a very high score across\n",
      "the remaining games, obtaining a median human normalised score of 1344.0%.\n",
      "Notably, the proposed method is the first algorithm to achieve non-zero rewards\n",
      "(with a mean score of 8,400) in the game of Pitfall! without using demonstrations\n",
      "or hand-crafted features.\n",
      "\n",
      "Super-human Atari Narrow AGI: https://www.youtube.com/results?search_query=agent57\n",
      "\n",
      "Я же ноутбук выложил - сделайте лучше и положите рядом в ту же репу - сравним и обсудим на семинаре через несколько недель...\n",
      "\n",
      "Это фундаментальная проблема эволюции - адаптация (оверфиттинг к конкретной среде) против изменчивости (сильная генерализация на все возможные изменения среды).\n",
      "\n",
      "Сергей Шумский обещал рассказать\n",
      "\n",
      "Видимо, вам нужно не гадать, а открыть ноутбук по ссылке или (если это не поможет) подождать семинара по данной теме (если он состоится) 😊\n",
      "\n",
      "Спасибо тем, кто поддержал, вот результаты в нотебуке, расскажу позже, если будет интерес: https://github.com/aigents/pygents/blob/main/notebooks/cluster/distribution_modes.ipynb\n",
      "\n",
      "Уже сюда идем и выражаем мнение: https://t.me/agirussia/43055\n",
      "\n",
      "Коллеги, нужно больше голосов 🙏\n",
      "\n",
      "@igorpivovarov - комментарий с ютюба:  Олександр Науменко\n",
      "Очень простой эксперимент: для случайной выборки построить нормальное распределение мужчин и женщин по росту. У мужчин склонность к отклонениям будет выше. В этом суть двуполого размножения - женские особи гарантируют стабильность многими поколениями отобранных генов, на мужских природа экспериментирует. Поэтому среди мужиков легче найти как \"шибко умных\", так и полных идиотов. Это к вопросу о мутации. \n",
      "https://www.youtube.com/watch?v=TVtU_cQcitI&lc=UgwLp_sSbVa1IErxrd14AaABAg\n",
      "\n",
      "Робот-доставщик не смог перейти дорогу на красный\n",
      "\n",
      "Эта трогательная история произошла в Великобритании, где робот-доставщик долго не мог перейти дорогу, а девушка помогла ему, нажав на кнопку. \n",
      "\n",
      "Машин вокруг не было, но программа не позволяла роверу перейти дорогу на красный, из-за чего он стоял на месте и вежливо просил окружающих нажать на кнопку светофора. Если бы не участливая девушка, кто-то мог так и не дождаться своего заказа.\n",
      "\n",
      "Вот оно будущее: раньше бабушек через дорогу переводили, а теперь доставщиков еды.\n",
      "\n",
      "@exploitex\n",
      "\n",
      "... или дать ответ в текущем конесте или ...\n",
      "\n",
      "хам забанен, не грустите о нем 😇\n",
      "\n",
      "Чтобы развеять обстановку - когда я написал на шелле автоматический раздаватель банов по айпишнику для корпоративного облака, в какой-то момент он забанил весь офис и пришлось срочно мчаться домой, заходить удаленно и разблокировать ручками...\n",
      "\n",
      "Ни фига себе, за 20 лет до \"Мир не Земле\" Станислава Лема\n",
      "\n",
      "\"Либо штаны наденьте, либо крестик снимите\". Если ТТ проходится \"имитацией\" а имитиция это \"низачот\", то сам ТТ - тоже \"низачот\" и нечего на него ссылаться.\n",
      "\n",
      "При том что тест Тьюринга формально пройден, причем пройдет на \"движке на правилах\", с качеством выше, чем современные GPT-сетки.\n",
      "\n",
      "\n",
      "\n",
      "Погуглите \"linguistic perplexity\", например: https://www.researchgate.net/publication/351567868_Detecting_Anomalies_in_Sequences_of_Short_Text_Using_Iterative_Language_Models\n",
      "\n"
     ]
    }
   ],
   "source": [
    "SerLiistUser = users.most_common(10)\n",
    "userId = SerLiistUser[2][0]\n",
    "userId = '302910826'\n",
    "print(userId)\n",
    "br = 0\n",
    "brMes = 0\n",
    "for mmm in fullTextList:\n",
    "    if mmm.find('user_id') >=0:# and brMes > 40000:\n",
    "        num  = mmm.split('user_id')[1].split('}')[0].replace(\"': \",'')\n",
    "        if num.strip() == userId :\n",
    "            #print(num)\n",
    "            textMess=mmm.split('message : ')\n",
    "            if len(textMess) >1:\n",
    "                textMess=textMess[1].split('out :')[0]\n",
    "                print(textMess)\n",
    "                br +=1\n",
    "    # if br == 30: \n",
    "    #     break\n",
    "    brMes +=1"
   ]
  }
 ],
 "metadata": {
  "kernelspec": {
   "display_name": "Python 3.10.4 64-bit",
   "language": "python",
   "name": "python3"
  },
  "language_info": {
   "codemirror_mode": {
    "name": "ipython",
    "version": 3
   },
   "file_extension": ".py",
   "mimetype": "text/x-python",
   "name": "python",
   "nbconvert_exporter": "python",
   "pygments_lexer": "ipython3",
   "version": "3.10.6"
  },
  "orig_nbformat": 4,
  "vscode": {
   "interpreter": {
    "hash": "916dbcbb3f70747c44a77c7bcd40155683ae19c65e1c03b4aa3499c5328201f1"
   }
  }
 },
 "nbformat": 4,
 "nbformat_minor": 2
}
